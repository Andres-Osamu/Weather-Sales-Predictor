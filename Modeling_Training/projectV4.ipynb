{
 "cells": [
  {
   "cell_type": "markdown",
   "id": "dd25b01c-0b06-4a8f-8e0b-30bebf84a198",
   "metadata": {},
   "source": [
    "Importing the necessary library to build a machine learning model. \n",
    "Most of them are from sklearn. We will focus on:\n",
    "1. Linear Regression\n",
    "2. Polynomial Features\n",
    "3. Decision Tree\n",
    "4. Random Forest"
   ]
  },
  {
   "cell_type": "code",
   "execution_count": 1,
   "id": "f4e5388c-1e23-4bbc-a669-066c31902ff9",
   "metadata": {},
   "outputs": [
    {
     "name": "stdout",
     "output_type": "stream",
     "text": [
      "input/sampleSubmission.csv\n",
      "input/merged_data.csv\n",
      "input/testing_data.csv\n",
      "input/weather.csv\n",
      "input/train.csv\n",
      "input/train_data.csv\n",
      "input/key.csv\n"
     ]
    }
   ],
   "source": [
    "# Import library\n",
    "import numpy as np\n",
    "import pandas as pd\n",
    "import matplotlib.pyplot as plt\n",
    "import os\n",
    "from datetime import datetime\n",
    "import time \n",
    "\n",
    "# import machine learning model libs\n",
    "from sklearn.linear_model import LinearRegression\n",
    "from sklearn.preprocessing import PolynomialFeatures\n",
    "from sklearn.tree import DecisionTreeClassifier\n",
    "from sklearn.ensemble import RandomForestRegressor\n",
    "\n",
    "from sklearn.model_selection import cross_val_score\n",
    "from sklearn.model_selection import train_test_split\n",
    "from sklearn.metrics import mean_absolute_error, mean_squared_error\n",
    "\n",
    "# list of input files\n",
    "for dirname, _, filenames in os.walk('input'):\n",
    "    for filename in filenames:\n",
    "        print(os.path.join(dirname, filename))"
   ]
  },
  {
   "cell_type": "code",
   "execution_count": 2,
   "id": "fdb28bb0-611f-400c-b39e-97b11078ff17",
   "metadata": {},
   "outputs": [],
   "source": [
    "# Import the training data\n",
    "train_data = pd.read_csv('input/train_data.csv')"
   ]
  },
  {
   "cell_type": "markdown",
   "id": "53e0501b-0cee-4e9f-b8b5-c80f19ff5cd3",
   "metadata": {},
   "source": [
    "Additional Data preprocessing\n",
    "We create more features by split the value of each columns\n",
    "From the label fo the train_data we can split them to\n",
    "1. store number\n",
    "2. item number\n",
    "3. date\n",
    "Then with the date value, we can add 3 more features:\n",
    "1. day\n",
    "2. month\n",
    "3. year"
   ]
  },
  {
   "cell_type": "code",
   "execution_count": 3,
   "id": "c75ec52d-5758-4148-85c6-85d91e72481a",
   "metadata": {},
   "outputs": [],
   "source": [
    "# Add Store number, item number and date features\n",
    "train_data[['store_nbr', 'item_nbr','date']] = train_data['label'].str.split('_',expand=True)\n",
    "\n",
    "# Convert the date to format to day, month, year features\n",
    "train_data[['year', 'month','day']] = train_data['date'].str.split('-',expand=True)\n",
    "\n",
    "# Convert any non numerical value from the average temperature to numerical values\n",
    "train_data['tavg'] = train_data['tavg'].replace(['M'], -1)\n",
    "train_data['tavg'] = train_data['tavg'].replace(['  T'], -2)"
   ]
  },
  {
   "cell_type": "markdown",
   "id": "6e7c94b6-3eea-4d59-9054-d3d2aef9e872",
   "metadata": {},
   "source": [
    "In the following step, I created functions to aid in building the models."
   ]
  },
  {
   "cell_type": "code",
   "execution_count": 4,
   "id": "48019a34-9ae0-49d8-a21a-63df21669cdf",
   "metadata": {
    "tags": []
   },
   "outputs": [],
   "source": [
    "# Build dataset\n",
    "def build_dataset(train_data, features):\n",
    "    XX = train_data[features]\n",
    "    YY = train_data[\"units\"]\n",
    "    X_train, X_test, y_train, y_test = train_test_split(XX, YY, train_size=0.8,test_size=0.2, random_state=42, shuffle=True)\n",
    "    return X_train, X_test, y_train, y_test\n",
    "\n",
    "# Build Linear Regression\n",
    "def build_LR(X_train, X_test, Y_train, Y_test):\n",
    "  # Create Linear features\n",
    "    model = LinearRegression()\n",
    "\n",
    "    # Fit the model\n",
    "    model.fit(X_train, Y_train)\n",
    "\n",
    "    # predict the target variable using the trained model and new data\n",
    "    y_pred = model.predict(X_test)\n",
    "    \n",
    "    return y_pred\n",
    "\n",
    "# Build Random Forest Regressor\n",
    "def build_PR(X_train, X_test, Y_train, Y_test):\n",
    "  # Create polynomial features\n",
    "    poly = PolynomialFeatures(degree=4)\n",
    "    X_poly = poly.fit_transform(X_train)\n",
    "\n",
    "    # Create linear regression object\n",
    "    model = LinearRegression()\n",
    "\n",
    "    # Fit the model\n",
    "    model.fit(X_poly, Y_train)\n",
    "\n",
    "    # predict the target variable using the trained model and new data\n",
    "    X_new_poly = poly.transform(X_test)\n",
    "    y_poly_pred = model.predict(X_new_poly)\n",
    "    \n",
    "    return y_poly_pred\n",
    "\n",
    "# Build Linear Regression\n",
    "def build_DT(X_train, X_test, Y_train, Y_test):\n",
    "  # Create Decision Tree Classifier\n",
    "    model = DecisionTreeClassifier()\n",
    "\n",
    "    # Fit the model\n",
    "    model.fit(X_train, Y_train)\n",
    "\n",
    "    # predict the target variable using the trained model and new data\n",
    "    y_pred = model.predict(X_test)\n",
    "    \n",
    "    return y_pred\n",
    "\n",
    "# Build Random Forest Regressor\n",
    "def build_RFR(X_train, X_test, Y_train, Y_test):\n",
    "    # Instantiate the Random Forest Regressor with the desired parameters\n",
    "    rf_regressor = RandomForestRegressor(n_estimators=100, max_depth=50, random_state=42)\n",
    "\n",
    "    # Train the Random Forest Regressor on the training data\n",
    "    rf_regressor.fit(X_train, Y_train)\n",
    "\n",
    "    # Make predictions on the test data\n",
    "    y_pred = rf_regressor.predict(X_test)\n",
    "    \n",
    "    return y_pred\n",
    "\n",
    "# Predict accuracy \n",
    "def predict_accuracy(y_test, y_pred):\n",
    "    mae = mean_absolute_error(y_test, y_pred)\n",
    "    accuracy = 100 * (1 - mae / np.mean(y_test))\n",
    "    return accuracy"
   ]
  },
  {
   "cell_type": "markdown",
   "id": "6fa3ee40-9bae-4055-b0e0-3a7396c78e60",
   "metadata": {},
   "source": [
    "Here we define features that we would like to explore. After performing some trial and error, we conclude that it is impossible to build models which include the weather codes features. It is due to the lack of computational power. "
   ]
  },
  {
   "cell_type": "code",
   "execution_count": 5,
   "id": "b3722d08-cd70-4a65-93e5-082407ae7349",
   "metadata": {},
   "outputs": [],
   "source": [
    "performance = {}\n",
    "performance['Features'] = []\n",
    "performance['Features'].append('station_nbr,store_nbr,item_nbr')\n",
    "performance['Features'].append('station_nbr,store_nbr,item_nbr,day,month,year')\n",
    "performance['Features'].append('station_nbr,store_nbr,item_nbr,day,month,year,dayNum,weekday,weekend')\n",
    "performance['Features'].append('tavg,day,month,year')\n",
    "performance['Features'].append('station_nbr,store_nbr,item_nbr,day,month,year,dayNum,weekday,weekend,tavg')\n",
    "\n",
    "# We cannot use these features because they are computational expensive\n",
    "# performance['Features'].append('station_nbr,store_nbr,item_nbr,day,month,year,dayNum,weekday,weekend,FC,FC+,FC,TS,GR,RA,DZ,SN,SG,GS,PL,IC,FG+,FG,BR,UP,HZ,FU,VA,DU,DS,PO,SA,SS,PY,SQ,DR,SH,FZ,MI,PR,BC,BL,VC')\n",
    "# performance['Features'].append('day,month,year,dayNum,weekday,weekend,FC,FC+,FC,TS,GR,RA,DZ,SN,SG,GS,PL,IC,FG+,FG,BR,UP,HZ,FU,VA,DU,DS,PO,SA,SS,PY,SQ,DR,SH,FZ,MI,PR,BC,BL,VC')\n",
    "\n",
    "performance['Linear Regression'] = []\n",
    "performance['Linear Regression MSE'] = []\n",
    "performance['Polynomial Regression'] = []\n",
    "performance['Polynomial Regression MSE'] = []\n",
    "performance['Decision Tree'] = []\n",
    "performance['Decision Tree MSE'] = []\n",
    "performance['Random Forest Regressor'] = []\n",
    "performance['Random Forest Regressor MSE'] = []\n",
    "\n",
    "model = {}\n",
    "model['Linear Regression'] = build_LR\n",
    "model['Polynomial Regression'] = build_PR\n",
    "model['Decision Tree'] = build_DT\n",
    "model['Random Forest Regressor'] = build_RFR"
   ]
  },
  {
   "cell_type": "markdown",
   "id": "8f7e2348-d01b-4f7b-a6b3-fa1a65fe75d2",
   "metadata": {},
   "source": [
    "In this step, we built the each models base on different features.\n",
    "We evaluated each models by analyse the mean square error. This is a popular metric used for regression tasks. It measures the average squared difference between the predicted values and the true values."
   ]
  },
  {
   "cell_type": "code",
   "execution_count": 6,
   "id": "0363a410-b9d5-439e-a921-bbef8178e6f4",
   "metadata": {},
   "outputs": [
    {
     "name": "stdout",
     "output_type": "stream",
     "text": [
      "Features: station_nbr,store_nbr,item_nbr\n",
      "Accuracy score: 19.60% MSE: 1908.05 running time: 0.05s\n",
      "Accuracy score: 31.29% MSE: 1365.30 running time: 0.16s\n",
      "Accuracy score: 62.16% MSE: 730.74 running time: 0.10s\n",
      "Accuracy score: 65.11% MSE: 545.05 running time: 2.51s\n",
      "Features: station_nbr,store_nbr,item_nbr,day,month,year\n",
      "Accuracy score: 20.05% MSE: 1880.41 running time: 0.09s\n",
      "Accuracy score: 32.40% MSE: 1308.70 running time: 0.87s\n",
      "Accuracy score: 61.03% MSE: 704.66 running time: 0.85s\n",
      "Accuracy score: 69.41% MSE: 619.39 running time: 13.53s\n",
      "Features: station_nbr,store_nbr,item_nbr,day,month,year,dayNum,weekday,weekend\n",
      "Accuracy score: 20.49% MSE: 1859.31 running time: 0.12s\n",
      "Accuracy score: 33.14% MSE: 1278.60 running time: 3.74s\n",
      "Accuracy score: 63.45% MSE: 645.26 running time: 1.04s\n",
      "Accuracy score: 73.00% MSE: 349.84 running time: 17.47s\n",
      "Features: tavg,day,month,year\n",
      "Accuracy score: 15.58% MSE: 2001.52 running time: 0.05s\n",
      "Accuracy score: 16.71% MSE: 1973.95 running time: 0.31s\n",
      "Accuracy score: 4.35% MSE: 3251.14 running time: 0.27s\n",
      "Accuracy score: 15.94% MSE: 2168.62 running time: 7.78s\n",
      "Features: station_nbr,store_nbr,item_nbr,day,month,year,dayNum,weekday,weekend,tavg\n",
      "Accuracy score: 20.62% MSE: 1857.71 running time: 0.12s\n",
      "Accuracy score: 34.20% MSE: 1238.14 running time: 6.15s\n",
      "Accuracy score: 62.40% MSE: 1940.88 running time: 1.32s\n",
      "Accuracy score: 72.87% MSE: 415.72 running time: 22.20s\n"
     ]
    }
   ],
   "source": [
    "model_no = 4\n",
    "feature_no = len(performance['Features'])\n",
    "feature_lists = performance['Features']\n",
    "for ii in range(feature_no):\n",
    "    feature_list = feature_lists[ii].split(',')\n",
    "    features = feature_list\n",
    "    # features = ['station_nbr','dayNum','weekday','weekend','store_nbr', 'item_nbr','day','month','year']\n",
    "    print(f\"Features: {','.join(features)}\")\n",
    "    X_train, X_test, y_train, y_test = build_dataset(train_data, features)\n",
    "    keys = list(model.keys())\n",
    "    for i in range(model_no):\n",
    "        start = time.time()\n",
    "        model_name = keys[i]\n",
    "        y_pred = model[model_name](X_train, X_test, y_train, y_test)\n",
    "        accuracy_score = predict_accuracy(y_test, y_pred)\n",
    "        mse = mean_squared_error(y_test, y_pred)\n",
    "        end = time.time()\n",
    "        performance[model_name].append(round(accuracy_score,2))\n",
    "        performance[model_name+\" MSE\"].append(round(mse,2))\n",
    "        print(f\"Accuracy score: {accuracy_score:.2f}% MSE: {mse:.2f} running time: {(end-start):.2f}s\")"
   ]
  },
  {
   "cell_type": "markdown",
   "id": "3de21741-32d0-4c13-b268-5f63ba826eff",
   "metadata": {},
   "source": [
    "We printed out the score of each models and their measure squared error to further analyze."
   ]
  },
  {
   "cell_type": "code",
   "execution_count": 8,
   "id": "0d0931d9-67bb-4f10-aeec-4cac99f22f41",
   "metadata": {},
   "outputs": [],
   "source": [
    "perform_df = pd.DataFrame(performance)\n",
    "perform_df.to_csv('performance.csv', index=False)"
   ]
  },
  {
   "cell_type": "raw",
   "id": "4fddb391-14f0-4b0c-b97a-08e6bba8bf43",
   "metadata": {},
   "source": [
    "Upon conducting a thorough examination of the CSV file, we made a decision to utilize the model with the highest accuracy score and the lowest mean squared error score for submission to the Kaggle contest. This choice allowed us to obtain a score which accurately reflects our ranking to other participating teams."
   ]
  },
  {
   "cell_type": "code",
   "execution_count": 9,
   "id": "dc266a68-2858-40e5-a5f6-4b1f29b23464",
   "metadata": {},
   "outputs": [],
   "source": [
    "# import test data for submission\n",
    "test_data = pd.read_csv('input/testing_data.csv', low_memory=False)\n",
    "\n",
    "# Preprocess test data\n",
    "test_data[['store_nbr', 'item_nbr','date']] = test_data['id'].str.split('_',expand=True)\n",
    "test_data[['year','month','day']] = test_data['date'].str.split('-',expand=True)\n",
    "\n",
    "feature_test = \"station_nbr,store_nbr,item_nbr,day,month,year,dayNum,weekday,weekend\"\n",
    "feature_list = feature_test.split(',')\n",
    "X_train = train_data[feature_list]\n",
    "Y_train = train_data[\"units\"]\n",
    "X_test = test_data[feature_list]\n",
    "Y_test = []\n",
    "\n",
    "y_pred = build_RFR(X_train, X_test, Y_train, Y_test)\n",
    "\n",
    "d = {'id': test_data['id'].values, 'units': y_pred}\n",
    "output = pd.DataFrame(d)\n",
    "output.to_csv('test_pred_RFR.csv', index=False)"
   ]
  },
  {
   "cell_type": "markdown",
   "id": "35d3dc10-7190-43ba-adef-b75f18790f4b",
   "metadata": {},
   "source": [
    "It achieved a score of 1.77669 which is lower than before by 50%."
   ]
  }
 ],
 "metadata": {
  "kernelspec": {
   "display_name": "Python 3 (ipykernel)",
   "language": "python",
   "name": "python3"
  },
  "language_info": {
   "codemirror_mode": {
    "name": "ipython",
    "version": 3
   },
   "file_extension": ".py",
   "mimetype": "text/x-python",
   "name": "python",
   "nbconvert_exporter": "python",
   "pygments_lexer": "ipython3",
   "version": "3.9.13"
  }
 },
 "nbformat": 4,
 "nbformat_minor": 5
}
